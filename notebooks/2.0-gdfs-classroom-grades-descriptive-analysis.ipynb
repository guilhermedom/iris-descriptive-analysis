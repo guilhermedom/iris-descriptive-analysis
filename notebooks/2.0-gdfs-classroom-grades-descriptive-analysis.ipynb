{
  "cells": [
    {
      "cell_type": "markdown",
      "metadata": {
        "id": "HaabIE4ETRhY"
      },
      "source": [
        "# One-dimensional Statistical Descriptive Analysis - Classroom Grades\n",
        " \n",
        "Four datasets (\"grades_classroom01.txt\", \"grades_classroom02.txt\", \"grades_classroom03.txt\" and \"grades_classroom04.txt\") have the final grades for four classrooms in a course with four hundred students. Using simple descriptive statistics, we can compare the performance of the four classrooms. Consider that a student must have a grade greater or equal to 50 to be approved.\n",
        "\n",
        "As an initial measure of performance, we take the averages of all grades:"
      ]
    },
    {
      "cell_type": "code",
      "execution_count": 13,
      "metadata": {
        "colab": {
          "base_uri": "https://localhost:8080/",
          "height": 605
        },
        "id": "9p4v0FJRMUW_",
        "outputId": "c2515815-f2ff-4cf6-f5b6-b47ce5e0e316"
      },
      "outputs": [
        {
          "name": "stdout",
          "output_type": "stream",
          "text": [
            "--- Classroom: 1 ---\n",
            "Average grade: 60.184600\n",
            "--- Classroom: 2 ---\n",
            "Average grade: 55.184400\n",
            "--- Classroom: 3 ---\n",
            "Average grade: 39.984800\n",
            "--- Classroom: 4 ---\n",
            "Average grade: 45.090900\n"
          ]
        }
      ],
      "source": [
        "import numpy as np\n",
        "\n",
        "classrooms = []\n",
        "classrooms.append(np.loadtxt(\"../data/raw/grades_classroom01.txt\"))\n",
        "classrooms.append(np.loadtxt(\"../data/raw/grades_classroom02.txt\"))\n",
        "classrooms.append(np.loadtxt(\"../data/raw/grades_classroom03.txt\"))\n",
        "classrooms.append(np.loadtxt(\"../data/raw/grades_classroom04.txt\"))\n",
        "\n",
        "# print average grade for each classroom\n",
        "for count, cl in enumerate(classrooms):\n",
        "    print(\"--- Classroom: %d ---\" % (count + 1))\n",
        "    print(\"Average grade: %f\" % np.mean(cl))    "
      ]
    },
    {
      "cell_type": "markdown",
      "metadata": {
        "id": "EjMiZQwCPEm5"
      },
      "source": [
        "By looking at the average grades, one may conclude that Classroom 1 has the best performance of all. However, the mean may be misleading sometimes as the data can be skewed or have different kurtosis. To visually verify if our data is impacted by any of these two, we can plot histograms and boxplots."
      ]
    },
    {
      "cell_type": "code",
      "execution_count": 52,
      "metadata": {
        "colab": {
          "base_uri": "https://localhost:8080/",
          "height": 687
        },
        "id": "unbEq2aNMeIJ",
        "outputId": "63970d1f-2262-4c75-839d-269c67dafb8e"
      },
      "outputs": [
        {
          "data": {
            "image/png": "[encoded data removed]",
            "text/plain": [
              "<Figure size 432x288 with 4 Axes>"
            ]
          },
          "metadata": {
            "needs_background": "light"
          },
          "output_type": "display_data"
        },
        {
          "data": {
            "text/plain": [
              "Text(0.5, 1.0, 'All Classrooms Combined')"
            ]
          },
          "execution_count": 52,
          "metadata": {},
          "output_type": "execute_result"
        },
        {
          "data": {
            "image/png": "[encoded data removed]",
            "text/plain": [
              "<Figure size 432x288 with 1 Axes>"
            ]
          },
          "metadata": {
            "needs_background": "light"
          },
          "output_type": "display_data"
        }
      ],
      "source": [
        "import matplotlib.pyplot as plt\n",
        "\n",
        "# set different colors and titles for our histograms\n",
        "colors = ['g', 'orange', 'r', 'k']\n",
        "titles = ['Classroom 1', 'Classroom 2', 'Classroom 3', 'Classroom 4']\n",
        "\n",
        "# create a figure with 4 subplots, each one having one histogram\n",
        "f, a = plt.subplots(2, 2)\n",
        "a = a.ravel()\n",
        "for idx, ax in enumerate(a):\n",
        "    ax.hist(classrooms[idx], color=colors[idx])\n",
        "    ax.set_title(titles[idx])\n",
        "    ax.set_xlabel(\"Grades\")\n",
        "    ax.set_ylabel(\"Frequency\")\n",
        "    ax.set_xlim(-5, 105)\n",
        "plt.tight_layout()\n",
        "plt.show()\n",
        "\n",
        "# plot all histograms overlayed. We will let hist function define the histogram bins\n",
        "# because if we fix specific bins, the bars from the histogram will accumulate across\n",
        "# different classrooms\n",
        "plt.hist(classrooms[0], alpha = 0.5, color='g')\n",
        "plt.hist(classrooms[1], alpha = 0.5, color='orange')\n",
        "plt.hist(classrooms[2], alpha = 0.5, color='r')\n",
        "plt.hist(classrooms[3], alpha = 0.5, color='k')\n",
        "plt.xlabel(\"Grades\")\n",
        "plt.ylabel(\"Frequency\")\n",
        "plt.title(\"All Classrooms Combined\")"
      ]
    },
    {
      "cell_type": "markdown",
      "metadata": {},
      "source": [
        "Observing the histograms for each class, it is possible to see that Classroom 1 has the highest mean not because it actually has the best common student performance, but because of many students that have grades above 90. Note that lots of students also have a very low grade in Classroom 1: 10 of them have grades below 10.\n",
        "\n",
        "Classrooms 2 and 3 have a very high kurtosis, which can be seen by how tall their histograms are around the mean. Classroom 4 has the most normally distributed performance, with a normal kurtosis and grades centered around a mean of 50.\n",
        "\n",
        "We can also see that Classroom 2 in orange has almost all of its students passing, with grades equal or above 50."
      ]
    },
    {
      "cell_type": "code",
      "execution_count": 53,
      "metadata": {
        "colab": {
          "base_uri": "https://localhost:8080/",
          "height": 483
        },
        "id": "HHsh9e8BQbLQ",
        "outputId": "c2c57c77-abc7-45d0-f088-45724bb978d8"
      },
      "outputs": [
        {
          "data": {
            "image/png": "[encoded data removed]",
            "text/plain": [
              "<Figure size 432x288 with 4 Axes>"
            ]
          },
          "metadata": {
            "needs_background": "light"
          },
          "output_type": "display_data"
        }
      ],
      "source": [
        "# set colors and titles for our histograms\n",
        "colors = ['g', 'orange', 'r', 'k']\n",
        "titles = ['Classroom 1', 'Classroom 2', 'Classroom 3', 'Classroom 4']\n",
        "\n",
        "# create figure with 4 subplots, one for each boxplot/classroom\n",
        "f, a = plt.subplots(2, 2)\n",
        "a = a.ravel()\n",
        "for idx, ax in enumerate(a):\n",
        "    bp = ax.boxplot(classrooms[idx], patch_artist=True)\n",
        "    bp['boxes'][0].set(facecolor = colors[idx])\n",
        "    ax.set_title(titles[idx])\n",
        "    ax.set_xlabel(\"Box\")\n",
        "    ax.set_ylabel(\"Grades\")\n",
        "    ax.set_ylim(-5, 105)\n",
        "plt.tight_layout()"
      ]
    },
    {
      "cell_type": "markdown",
      "metadata": {
        "id": "C0IaCl_KQqj0"
      },
      "source": [
        "The high variance in the Classroom 1 performance is even more clear when we check its boxplot. Minimum and maximum grades are outliers ranging from grade 0 to grade 100. Quartile 1 and 3 are also much farther from the median, in comparison with the boxplots for other classrooms.\n",
        "\n",
        "Again we can see that almost everyone in Classroom 2 has achieved a grade above 50. For Classroom 3, it is the opposite. Almost all grades are below 50 and even the maximum grade is only narrowly above 50."
      ]
    },
    {
      "cell_type": "markdown",
      "metadata": {
        "id": "JZWmSWQkc213"
      },
      "source": [
        "\n",
        "\n",
        "---\n",
        "\n",
        "Finally, we can check the number of approved students for each class, to verify our descriptive analysis."
      ]
    },
    {
      "cell_type": "code",
      "execution_count": 50,
      "metadata": {
        "colab": {
          "base_uri": "https://localhost:8080/",
          "height": 180
        },
        "id": "LQ5cUlomXFTY",
        "outputId": "fd7f1349-87d6-4084-d3bf-ceef4b05254d"
      },
      "outputs": [
        {
          "name": "stdout",
          "output_type": "stream",
          "text": [
            "--- Classroom: 1 ---\n",
            "Number of students that passed: 68\n",
            "--- Classroom: 2 ---\n",
            "Number of students that passed: 90\n",
            "--- Classroom: 3 ---\n",
            "Number of students that passed: 2\n",
            "--- Classroom: 4 ---\n",
            "Number of students that passed: 41\n"
          ]
        }
      ],
      "source": [
        "# iterate through every classroom and use numpy's count_nonzero function to check\n",
        "# how many elements from the grade lists are equal or greater than 50\n",
        "for count, cl in enumerate(classrooms):\n",
        "    print(\"--- Classroom: %d ---\" % (count + 1))\n",
        "    print(\"Number of students that passed: %d\" % np.count_nonzero(cl >= 50))  "
      ]
    },
    {
      "cell_type": "markdown",
      "metadata": {},
      "source": [
        "The best performance, considering number of approved students, is from Classroom 2, where 90 of the 100 students passed. This is in accordance with our previous histogram and boxplots analyses. Even with a higher grade mean, Classroom 1 would not be considered the best one, if we concentrate on the number of laureates. That is mainly because Classroom 1 performance was much more spread and full of outliers. \n",
        "\n",
        "Classroom 3 indeed has a very poor performance, with only 2/100 students passing. Even though Classroom 3's grade mean is close to Classroom 4's, Classroom 3 has much less approved students.\n",
        "\n",
        "Conclusively, we can see that the average grade results may be misleading and, therefore, should be analyzed along other measures. Even if the definition of best performance would be only the mean grade, that would not reflect reality, as Classroom 2 has much more laureates than Classroom 1."
      ]
    }
  ],
  "metadata": {
    "colab": {
      "collapsed_sections": [],
      "name": "Aula02-Exercicio01",
      "provenance": [],
      "toc_visible": true
    },
    "kernelspec": {
      "display_name": "Python 3.8.12 ('bf_minhashing')",
      "language": "python",
      "name": "python3"
    },
    "language_info": {
      "codemirror_mode": {
        "name": "ipython",
        "version": 3
      },
      "file_extension": ".py",
      "mimetype": "text/x-python",
      "name": "python",
      "nbconvert_exporter": "python",
      "pygments_lexer": "ipython3",
      "version": "3.8.12"
    },
    "vscode": {
      "interpreter": {
        "hash": "b39e83d7d937e7ce85387f84ef071986d0096be4afb1ae7c3fe160a424884580"
      }
    }
  },
  "nbformat": 4,
  "nbformat_minor": 0
}
